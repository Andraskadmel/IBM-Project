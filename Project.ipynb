{
 "cells": [
  {
   "cell_type": "markdown",
   "metadata": {
    "collapsed": true
   },
   "source": [
    "<h1>My Jupyter Notebook on IBM Watson Studio</h1>"
   ]
  },
  {
   "cell_type": "markdown",
   "metadata": {},
   "source": [
    "<strong>Camilo Andrés Peñate Pérez</strong><br>\n",
    "Software Engineering Student"
   ]
  },
  {
   "cell_type": "markdown",
   "metadata": {},
   "source": [
    "<em>I'm really interested in Data Science because I find this world amazin!</em>"
   ]
  },
  {
   "cell_type": "markdown",
   "metadata": {},
   "source": [
    "<h3>In this little code example it is showm a way for converting USD to COP using Python.</h3>"
   ]
  },
  {
   "cell_type": "code",
   "execution_count": 6,
   "metadata": {},
   "outputs": [
    {
     "name": "stdout",
     "output_type": "stream",
     "text": [
      "Enter the amount of dollars you want to change: 100\n",
      "The amount of USD in COP is: 390.0 \n"
     ]
    }
   ],
   "source": [
    "x = int(input('Enter the amount of dollars you want to change: '))\n",
    "#COP price today\n",
    "z = x * 3.900 \n",
    "print(f'The amount of USD in COP is: {z} ')"
   ]
  },
  {
   "cell_type": "markdown",
   "metadata": {},
   "source": [
    "<ol>\n",
    "<li>Example Line.</li>\n",
    "<li>Example Line.</li>\n",
    "<li>Example Line.</li>\n",
    "<li>Example Line.</li>\n",
    "</ol>"
   ]
  }
 ],
 "metadata": {
  "kernelspec": {
   "display_name": "Python 3.9",
   "language": "python",
   "name": "python3"
  },
  "language_info": {
   "codemirror_mode": {
    "name": "ipython",
    "version": 3
   },
   "file_extension": ".py",
   "mimetype": "text/x-python",
   "name": "python",
   "nbconvert_exporter": "python",
   "pygments_lexer": "ipython3",
   "version": "3.9.12"
  }
 },
 "nbformat": 4,
 "nbformat_minor": 1
}
